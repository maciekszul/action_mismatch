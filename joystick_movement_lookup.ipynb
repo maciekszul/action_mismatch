{
 "cells": [
  {
   "cell_type": "code",
   "execution_count": 1,
   "metadata": {},
   "outputs": [],
   "source": [
    "import matplotlib.pylab as plt\n",
    "import glob\n",
    "import os.path as op\n",
    "from itertools import compress\n",
    "import numpy as np\n",
    "from matplotlib import gridspec\n",
    "from utilities import files, tools\n",
    "import scipy.ndimage.filters as nd\n",
    "from scipy.interpolate import interp1d\n",
    "import math\n",
    "from ipywidgets import interact, interactive, Layout"
   ]
  },
  {
   "cell_type": "code",
   "execution_count": 2,
   "metadata": {},
   "outputs": [],
   "source": [
    "def items_cont_str(input_list, string, sort=False):\n",
    "    \"\"\"\n",
    "    returns a list of items which contain a given string\n",
    "    optionally sorted\n",
    "    \"\"\"\n",
    "    output_list = [string in i for i in input_list]\n",
    "    output_list = list(compress(input_list, output_list))\n",
    "    if sort:\n",
    "        output_list.sort()\n",
    "    return output_list\n",
    "\n",
    "def to_polar(x, y):\n",
    "    radius = []\n",
    "    angle = []\n",
    "    xy = zip(x, y)\n",
    "    for x, y in xy:\n",
    "        rad, theta = tools.cart2polar(x, y)\n",
    "        theta = math.degrees(theta)\n",
    "        angle.append(theta)\n",
    "        radius.append(rad)\n",
    "    del xy\n",
    "    radius = np.array(radius)\n",
    "    angle = np.array(angle)\n",
    "    return [angle, radius]\n",
    "\n",
    "def nan_cleaner(arr):\n",
    "    \"\"\"\n",
    "    clears nan values and interpolates the missing value\n",
    "    \"\"\"\n",
    "    mask = np.isnan(arr)\n",
    "    arr[mask] = np.interp(np.flatnonzero(mask), np.flatnonzero(~mask), arr[~mask])\n",
    "    return arr\n",
    "\n",
    "\n",
    "def calculate_degs(angle, radius):\n",
    "    degs = np.diff(angle)\n",
    "    degs = np.insert(degs, 0, 0)\n",
    "    degs[np.abs(degs) > 300] = np.nan\n",
    "    degs = nan_cleaner(degs)\n",
    "    degs = degs * radius\n",
    "    return degs\n",
    "\n",
    "def resamp_interp(x, y, new_x):\n",
    "    \"\"\"\n",
    "    returns resampled an interpolated data\n",
    "    \"\"\"\n",
    "    resamp = interp1d(x, y, kind='slinear', fill_value='extrapolate')\n",
    "    new_data = resamp(new_x)\n",
    "    return new_data"
   ]
  },
  {
   "cell_type": "code",
   "execution_count": 4,
   "metadata": {},
   "outputs": [
    {
     "data": {
      "application/vnd.jupyter.widget-view+json": {
       "model_id": "c00fdc7fbc2647fa9b683e92b3c49366",
       "version_major": 2,
       "version_minor": 0
      },
      "text/plain": [
       "interactive(children=(Dropdown(description='x', layout=Layout(width='500px'), options=('data/0000/ses1_0000_15…"
      ]
     },
     "metadata": {},
     "output_type": "display_data"
    }
   ],
   "source": [
    "glob_path = op.join(\"data\", \"**\", \"*.npy\")\n",
    "all_pkl = [i for i in glob.iglob(glob_path, recursive=True)]\n",
    "all_npy_files = items_cont_str(all_pkl, \".npy\", sort=True)\n",
    "# file = all_npy_files[4]\n",
    "\n",
    "def plot_resp_sum(x):\n",
    "    joy_data = np.load(x)\n",
    "    x, y, t = joy_data\n",
    "    t = t - t[0]\n",
    "\n",
    "    time = np.linspace(0.0, 1.5, num=375)\n",
    "\n",
    "    x_interp = resamp_interp(t, x, time)\n",
    "    y_interp = resamp_interp(t, y, time)\n",
    "\n",
    "    for i in [[x_interp, y_interp, time]]:\n",
    "        angle, radius = to_polar(i[0], i[1])\n",
    "        ix = np.where(radius>0.2)[0][0]\n",
    "        degs = calculate_degs(angle, radius)\n",
    "        degs = nd.gaussian_filter1d(degs, sigma=6)\n",
    "        gs = gridspec.GridSpec(1, 2, width_ratios=[1, 1])\n",
    "        fig = plt.figure(figsize=(9, 4))\n",
    "        ax1 = plt.subplot(gs[0])\n",
    "        ax1.plot(i[2], degs)\n",
    "        ax1.scatter(i[2][ix], degs[ix])\n",
    "        print(i[2][ix])\n",
    "        ax2 = plt.subplot(gs[1])\n",
    "        ax2.plot(i[0], -i[1])\n",
    "        ax2.scatter(i[0][ix], -i[1][ix])\n",
    "        plt.xlim([-1.05,1.05])\n",
    "        plt.ylim([-1.05,1.05])\n",
    "\n",
    "int_widget = interactive(plot_resp_sum, x=all_npy_files)\n",
    "int_widget.children[0].layout = Layout(width='500px')\n",
    "display(int_widget)"
   ]
  },
  {
   "cell_type": "code",
   "execution_count": null,
   "metadata": {},
   "outputs": [],
   "source": []
  }
 ],
 "metadata": {
  "kernelspec": {
   "display_name": "Python 3",
   "language": "python",
   "name": "python3"
  },
  "language_info": {
   "codemirror_mode": {
    "name": "ipython",
    "version": 3
   },
   "file_extension": ".py",
   "mimetype": "text/x-python",
   "name": "python",
   "nbconvert_exporter": "python",
   "pygments_lexer": "ipython3",
   "version": "3.7.2"
  }
 },
 "nbformat": 4,
 "nbformat_minor": 2
}
